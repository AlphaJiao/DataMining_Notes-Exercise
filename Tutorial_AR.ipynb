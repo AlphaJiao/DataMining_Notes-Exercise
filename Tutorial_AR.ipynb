{
 "cells": [
  {
   "cell_type": "markdown",
   "metadata": {},
   "source": [
    "# Mining Association Rules with Orange\n",
    "\n",
    "We use [`Orange`](http://orange.biolab.si/), a general purpose Data Mining library in Python. `Orange` is very similar with `Scikit-Learn`, with additional features for Visual Programming and Unsupervised Mining Algorithms (e.g., Frequent Item Sets Mining & Association Rules Mining). Check out more at [here](https://docs.orange.biolab.si/2/reference/rst/Orange.associate.html). To install it, you can type:\n",
    "\n",
    "pip install Orange\n",
    "\n",
    "or \n",
    "\n",
    "conda install Orange\n",
    "\n",
    "on the command line. Make sure you install version 2.7 (which is the version used for Python 2.7) We use a toy market basket data `market-basket.basket`, which comes with the library. Each line describes a basket:\n",
    "\n",
    "```\n",
    "Bread, Milk\n",
    "Bread, Diapers, Beer, Eggs\n",
    "Milk, Diapers, Beer, Cola\n",
    "Bread, Milk, Diapers, Beer\n",
    "Bread, Milk, Diapers, Cola\n",
    "```\n",
    "\n",
    "The `.basket` suffix tells Orange that this is a basket data, i.e. each line can be seen as a set of items. Different lines might have different number of items. For basket data, we can use the built-in `AssociationRulesSparseInducer` of `Orange` to mine association rules with minimum support threshold 0.5, and minimum confidence 0.5:"
   ]
  },
  {
   "cell_type": "code",
   "execution_count": 1,
   "metadata": {},
   "outputs": [
    {
     "ename": "ImportError",
     "evalue": "No module named Orange",
     "output_type": "error",
     "traceback": [
      "\u001b[1;31m---------------------------------------------------------------------------\u001b[0m",
      "\u001b[1;31mImportError\u001b[0m                               Traceback (most recent call last)",
      "\u001b[1;32m<ipython-input-1-40b7c5441e53>\u001b[0m in \u001b[0;36m<module>\u001b[1;34m()\u001b[0m\n\u001b[1;32m----> 1\u001b[1;33m \u001b[1;32mimport\u001b[0m \u001b[0mOrange\u001b[0m\u001b[1;33m\u001b[0m\u001b[0m\n\u001b[0m\u001b[0;32m      2\u001b[0m \u001b[1;33m\u001b[0m\u001b[0m\n\u001b[0;32m      3\u001b[0m \u001b[0mdata\u001b[0m \u001b[1;33m=\u001b[0m \u001b[0mOrange\u001b[0m\u001b[1;33m.\u001b[0m\u001b[0mdata\u001b[0m\u001b[1;33m.\u001b[0m\u001b[0mTable\u001b[0m\u001b[1;33m(\u001b[0m\u001b[1;34m\"market-basket.basket\"\u001b[0m\u001b[1;33m)\u001b[0m\u001b[1;33m\u001b[0m\u001b[0m\n\u001b[0;32m      4\u001b[0m \u001b[0mrules\u001b[0m \u001b[1;33m=\u001b[0m \u001b[0mOrange\u001b[0m\u001b[1;33m.\u001b[0m\u001b[0massociate\u001b[0m\u001b[1;33m.\u001b[0m\u001b[0mAssociationRulesSparseInducer\u001b[0m\u001b[1;33m(\u001b[0m\u001b[0mdata\u001b[0m\u001b[1;33m,\u001b[0m \u001b[0msupport\u001b[0m\u001b[1;33m=\u001b[0m\u001b[1;36m0.01\u001b[0m\u001b[1;33m,\u001b[0m \u001b[0mconfidence\u001b[0m\u001b[1;33m=\u001b[0m\u001b[1;36m0.01\u001b[0m\u001b[1;33m)\u001b[0m\u001b[1;33m\u001b[0m\u001b[0m\n\u001b[0;32m      5\u001b[0m \u001b[1;32mprint\u001b[0m \u001b[1;34m\"%4s %4s  %s\"\u001b[0m \u001b[1;33m%\u001b[0m \u001b[1;33m(\u001b[0m\u001b[1;34m\"Supp\"\u001b[0m\u001b[1;33m,\u001b[0m \u001b[1;34m\"Conf\"\u001b[0m\u001b[1;33m,\u001b[0m \u001b[1;34m\"Rule\"\u001b[0m\u001b[1;33m)\u001b[0m\u001b[1;33m\u001b[0m\u001b[0m\n",
      "\u001b[1;31mImportError\u001b[0m: No module named Orange"
     ]
    }
   ],
   "source": [
    "import Orange\n",
    "\n",
    "data = Orange.data.Table(\"market-basket.basket\")\n",
    "rules = Orange.associate.AssociationRulesSparseInducer(data, support=0.01, confidence=0.01)\n",
    "print \"%4s %4s  %s\" % (\"Supp\", \"Conf\", \"Rule\")\n",
    "for r in rules:\n",
    "    print \"%.2f %.2f  %s\" % (r.support, r.confidence, r)"
   ]
  },
  {
   "cell_type": "markdown",
   "metadata": {},
   "source": [
    "`AssociationRulesSparseInducer` can also induce the frequent item sets, given a minimum support threshold:"
   ]
  },
  {
   "cell_type": "code",
   "execution_count": 6,
   "metadata": {},
   "outputs": [
    {
     "name": "stdout",
     "output_type": "stream",
     "text": [
      "Supp Rule\n",
      "0.60 Beer\n",
      "0.60 Beer Diapers\n",
      "0.80 Diapers\n",
      "0.60 Diapers Milk\n",
      "0.60 Diapers Bread\n",
      "0.80 Milk\n",
      "0.60 Milk Bread\n",
      "0.80 Bread\n"
     ]
    }
   ],
   "source": [
    "inducer = Orange.associate.AssociationRulesSparseInducer(support=0.5, storeExamples=True)\n",
    "itemsets = inducer.get_itemsets(data)\n",
    "\n",
    "print \"%4s %s\" % (\"Supp\", \"Rule\")\n",
    "for items, baskets in itemsets:\n",
    "    print \"%.2f %s\" % (len(baskets)/float(len(data)),\n",
    "                          \" \".join(data.domain[item].name for item in items))"
   ]
  },
  {
   "cell_type": "markdown",
   "metadata": {},
   "source": [
    "# Feature-Value Data Format\n",
    "\n",
    "Another data format that is relevant for us is the feature-value data format. In this case, typycally the first line specifies the names of the attributes, while the remaining lines specify the data. Observe that the number of elements per item is the same in all the lines. In `Orange` the second line of the input file specifies the type of the data, e.g. discrete, continuous or string. The third line gives additional informations which are not relevant for us at the moment. Below you can find an example (from the file `lenses.tab`) where the tab separator has been used.\n",
    "\n",
    "```\n",
    "age       prescription  astigmatic    tear_rate     lenses\n",
    "discrete  discrete      discrete      discrete      discrete\n",
    "\n",
    "young     myope         no            reduced       none\n",
    "young     myope         no            normal        soft\n",
    "young     myope         yes           reduced       none\n",
    "young     myope         yes           normal        hard\n",
    "young     hypermetrope  no            reduced       none\n",
    "```\n",
    "\n",
    "\n",
    "If your input file uses the feature-value data format then you should use the function `AssociationRulesInducer` instead of `AssociationRulesSparseInducer`. In `Orange`, file names with suffixes `csv` and `tab` use the feature-value data format, while the separator is a ',' or a tab, respectively. Check also the documentation [here](https://docs.orange.biolab.si/2/reference/rst/Orange.associate.html).\n",
    "\n"
   ]
  },
  {
   "cell_type": "code",
   "execution_count": 8,
   "metadata": {},
   "outputs": [
    {
     "name": "stdout",
     "output_type": "stream",
     "text": [
      "Supp Conf  Rule\n",
      "0.37 0.90  Shape=4 -> Density=3\n",
      "0.13 0.93  Margin=5 -> Density=3\n",
      "0.17 0.91  BI-RADS=4 Shape=1 -> Severity=0\n",
      "0.16 0.90  BI-RADS=4 Shape=2 -> Severity=0\n",
      "0.26 0.90  Margin=1 Density=3 -> BI-RADS=4\n",
      "0.30 0.91  Margin=1 Severity=0 -> BI-RADS=4\n",
      "0.30 0.91  BI-RADS=4 Margin=1 -> Severity=0\n",
      "0.24 0.90  BI-RADS=5 Shape=4 -> Density=3\n",
      "0.25 0.91  BI-RADS=5 Shape=4 -> Severity=1\n",
      "0.14 0.90  Shape=2 Margin=1 -> Severity=0\n",
      "0.11 0.96  Shape=4 Margin=5 -> Density=3\n",
      "0.30 0.90  Shape=4 Severity=1 -> Density=3\n",
      "0.11 0.93  Margin=5 Severity=1 -> Density=3\n",
      "0.14 0.91  Shape=1 Margin=1 Density=3 -> BI-RADS=4\n",
      "0.14 0.91  BI-RADS=4 Shape=1 Density=3 -> Margin=1\n",
      "0.16 0.92  Shape=1 Margin=1 Severity=0 -> BI-RADS=4\n",
      "0.16 0.91  BI-RADS=4 Shape=1 Margin=1 -> Severity=0\n",
      "0.15 0.92  Shape=1 Density=3 Severity=0 -> BI-RADS=4\n",
      "0.15 0.92  BI-RADS=4 Shape=1 Density=3 -> Severity=0\n",
      "0.12 0.92  Shape=2 Margin=1 Severity=0 -> BI-RADS=4\n",
      "0.12 0.94  BI-RADS=4 Shape=2 Margin=1 -> Severity=0\n",
      "0.12 0.91  Shape=2 Density=3 Severity=0 -> BI-RADS=4\n",
      "0.24 0.93  Margin=1 Density=3 Severity=0 -> BI-RADS=4\n",
      "0.24 0.91  BI-RADS=4 Margin=1 Density=3 -> Severity=0\n",
      "0.11 0.91  BI-RADS=5 Shape=4 Margin=4 -> Severity=1\n",
      "0.22 0.91  BI-RADS=5 Shape=4 Severity=1 -> Density=3\n",
      "0.22 0.91  BI-RADS=5 Shape=4 Density=3 -> Severity=1\n",
      "0.12 0.91  BI-RADS=5 Margin=4 Density=3 -> Severity=1\n",
      "0.14 0.91  Shape=1 Density=3 Severity=0 -> Margin=1\n",
      "0.14 0.90  Shape=1 Margin=1 Density=3 -> Severity=0\n",
      "0.13 0.93  Shape=1 Margin=1 Density=3 Severity=0 -> BI-RADS=4\n",
      "0.13 0.91  BI-RADS=4 Shape=1 Density=3 Severity=0 -> Margin=1\n",
      "0.13 0.92  BI-RADS=4 Shape=1 Margin=1 Density=3 -> Severity=0\n"
     ]
    },
    {
     "name": "stderr",
     "output_type": "stream",
     "text": [
      "/Library/Frameworks/Python.framework/Versions/2.7/lib/python2.7/site-packages/ipykernel_launcher.py:3: KernelWarning: 'TabDelimExampleGenerator': 'mammographic_masses.csv' is being loaded as .txt, but could be .tab file\n",
      "  This is separate from the ipykernel package so we can avoid doing imports until\n"
     ]
    }
   ],
   "source": [
    "import Orange\n",
    "\n",
    "data = Orange.data.Table(\"mammographic_masses.csv\")\n",
    "rules = Orange.associate.AssociationRulesInducer(data, support=0.1, confidence=0.9)\n",
    "print \"%4s %4s  %s\" % (\"Supp\", \"Conf\", \"Rule\")\n",
    "for r in rules:\n",
    "    print \"%.2f %.2f  %s\" % (r.support, r.confidence, r)"
   ]
  },
  {
   "cell_type": "markdown",
   "metadata": {},
   "source": [
    "Rules can be converted in strings, using `str()` which can then be split using `split('->')`. Example:"
   ]
  },
  {
   "cell_type": "code",
   "execution_count": 7,
   "metadata": {},
   "outputs": [
    {
     "name": "stdout",
     "output_type": "stream",
     "text": [
      "['lenses=none ', ' prescription=hypermetrope']\n"
     ]
    }
   ],
   "source": [
    "print str(rules[0]).split('->')"
   ]
  },
  {
   "cell_type": "code",
   "execution_count": null,
   "metadata": {
    "collapsed": true
   },
   "outputs": [],
   "source": []
  }
 ],
 "metadata": {
  "kernelspec": {
   "display_name": "Python 2",
   "language": "python",
   "name": "python2"
  }
 },
 "nbformat": 4,
 "nbformat_minor": 1
}
